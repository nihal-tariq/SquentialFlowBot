{
 "cells": [
  {
   "cell_type": "code",
   "execution_count": 2,
   "id": "initial_id",
   "metadata": {
    "collapsed": true,
    "ExecuteTime": {
     "end_time": "2025-10-06T12:59:28.111875Z",
     "start_time": "2025-10-06T12:59:28.109874400Z"
    }
   },
   "outputs": [],
   "source": [
    "from langgraph.graph import StateGraph, START, END\n",
    "from typing import TypedDict"
   ]
  },
  {
   "cell_type": "code",
   "outputs": [],
   "source": [
    "class BMIState(TypedDict):\n",
    "    weight:float\n",
    "    height:float\n",
    "    bmi:float"
   ],
   "metadata": {
    "collapsed": false,
    "ExecuteTime": {
     "end_time": "2025-10-06T13:00:19.325208700Z",
     "start_time": "2025-10-06T13:00:19.314198100Z"
    }
   },
   "id": "4160d0ca813c411b",
   "execution_count": 3
  },
  {
   "cell_type": "code",
   "outputs": [],
   "source": [
    "def BMI_Calculate(state: BMIState) -> BMIState: \n",
    "    \n",
    "    weight = state[\"weight\"]\n",
    "    height = state[\"height\"]\n",
    "    \n",
    "    bmi = weight/(height**2)\n",
    "    \n",
    "    state[\"bmi\"] = bmi\n",
    "    \n",
    "    return state\n",
    "    "
   ],
   "metadata": {
    "collapsed": false,
    "ExecuteTime": {
     "end_time": "2025-10-06T13:04:09.575248300Z",
     "start_time": "2025-10-06T13:04:09.562853600Z"
    }
   },
   "id": "676fff5b9751ea38",
   "execution_count": 4
  },
  {
   "cell_type": "code",
   "outputs": [],
   "source": [
    "graph = StateGraph(BMIState)\n",
    "\n",
    "graph.add_node('BMInode', BMI_Calculate)\n",
    "\n",
    "graph.add_edge(START, 'BMInode')\n",
    "graph.add_edge('BMInode', END)\n",
    "\n",
    "workflow= graph.compile()"
   ],
   "metadata": {
    "collapsed": false,
    "ExecuteTime": {
     "end_time": "2025-10-06T13:08:12.533335400Z",
     "start_time": "2025-10-06T13:08:12.502693Z"
    }
   },
   "id": "4e81f4ff382bdc86",
   "execution_count": 7
  },
  {
   "cell_type": "code",
   "outputs": [],
   "source": [
    "initial_state = {\"weight\":49.8, \"height\":1.7}\n",
    "\n",
    "final_state= workflow.invoke(initial_state)"
   ],
   "metadata": {
    "collapsed": false,
    "ExecuteTime": {
     "end_time": "2025-10-06T13:08:20.221535400Z",
     "start_time": "2025-10-06T13:08:20.218538200Z"
    }
   },
   "id": "a0338213bd89a883",
   "execution_count": 8
  },
  {
   "cell_type": "code",
   "outputs": [
    {
     "name": "stdout",
     "output_type": "stream",
     "text": [
      "{'weight': 49.8, 'height': 1.7, 'bmi': 17.231833910034602}\n"
     ]
    }
   ],
   "source": [
    "print(final_state)"
   ],
   "metadata": {
    "collapsed": false,
    "ExecuteTime": {
     "end_time": "2025-10-06T13:08:39.640864500Z",
     "start_time": "2025-10-06T13:08:39.588897700Z"
    }
   },
   "id": "5f1d9b3ec9e3dff5",
   "execution_count": 9
  },
  {
   "cell_type": "code",
   "outputs": [],
   "source": [],
   "metadata": {
    "collapsed": false
   },
   "id": "1e93909631349cce"
  }
 ],
 "metadata": {
  "kernelspec": {
   "display_name": "Python 3",
   "language": "python",
   "name": "python3"
  },
  "language_info": {
   "codemirror_mode": {
    "name": "ipython",
    "version": 2
   },
   "file_extension": ".py",
   "mimetype": "text/x-python",
   "name": "python",
   "nbconvert_exporter": "python",
   "pygments_lexer": "ipython2",
   "version": "2.7.6"
  }
 },
 "nbformat": 4,
 "nbformat_minor": 5
}
